{
 "cells": [
  {
   "cell_type": "markdown",
   "metadata": {
    "colab_type": "text",
    "id": "VqqiGbV14kWf"
   },
   "source": [
    "# Intermediate Level - Intro to Data Science with Python (Numpy & Pandas)"
   ]
  },
  {
   "cell_type": "markdown",
   "metadata": {
    "colab_type": "text",
    "id": "X0IoeE774kWk"
   },
   "source": [
    "### Question 1\n",
    "Load the energy data from the file `Energy Indicators.xls`, which is a list of indicators of **\"Energy Indicators\"** file available here [United Nations](http://unstats.un.org/unsd/environment/excel_file_tables/2013/Energy%20Indicators.xls) for the year 2013, and should be put into a DataFrame with the variable name of **energy**.\n",
    "\n",
    "**Note** - This is an Excel file, and not a comma separated values file. Also, make sure to exclude the footer and header information from the datafile. The first two columns are unneccessary, so you should get rid of them, and you should change the column labels so that the columns are:\n",
    "\n",
    "`['Country', 'Energy Supply', 'Energy Supply per Capita', '% Renewable']`\n",
    "\n",
    "Convert `Energy Supply` to gigajoules (there are 1,000,000 gigajoules in a petajoule). For all countries which have missing data (e.g. data with \"...\") make sure this is reflected as `np.NaN` values.\n",
    "\n",
    "Rename the following list of countries (for use in later questions):\n",
    "\n",
    "```\"Republic of Korea\": \"South Korea\",\n",
    "\"United States of America\": \"United States\",\n",
    "\"United Kingdom of Great Britain and Northern Ireland\": \"United Kingdom\",\n",
    "\"China, Hong Kong Special Administrative Region\": \"Hong Kong\"```\n",
    "\n",
    "There are also several countries with numbers and/or parenthesis in their name. Be sure to remove these, \n",
    "\n",
    "e.g. \n",
    "\n",
    "`'Bolivia (Plurinational State of)'` should be `'Bolivia'`, \n",
    "\n",
    "`'Switzerland17'` should be `'Switzerland'`.\n",
    "\n",
    "<br>\n",
    "\n",
    "Next, load the GDP data from the file `world_bank.csv`, which is a csv containing countries' GDP from 1960 to 2015 from [World Bank](http://data.worldbank.org/indicator/NY.GDP.MKTP.CD). Call this DataFrame **GDP**. \n",
    "\n",
    "Make sure to skip the header, and rename the following list of countries:\n",
    "\n",
    "```\"Korea, Rep.\": \"South Korea\", \n",
    "\"Iran, Islamic Rep.\": \"Iran\",\n",
    "\"Hong Kong SAR, China\": \"Hong Kong\"```\n",
    "\n",
    "<br>\n",
    "\n",
    "Finally, load the [Sciamgo Journal and Country Rank data for Energy Engineering and Power Technology](http://www.scimagojr.com/countryrank.php?category=2102) from the file `scimagojr-3.xlsx`, which ranks countries based on their journal contributions in the aforementioned area. Call this DataFrame **ScimEn**.\n",
    "\n",
    "Join the three datasets: GDP, Energy, and ScimEn into a new dataset (using the intersection of country names). Use only the last 10 years (2006-2015) of GDP data and only the top 15 countries by Scimagojr 'Rank' (Rank 1 through 15). \n",
    "\n",
    "The index of this DataFrame should be the name of the country, and the columns should be ['Rank', 'Documents', 'Citable documents', 'Citations', 'Self-citations',\n",
    "       'Citations per document', 'H index', 'Energy Supply',\n",
    "       'Energy Supply per Capita', '% Renewable', '2006', '2007', '2008',\n",
    "       '2009', '2010', '2011', '2012', '2013', '2014', '2015'].\n",
    "\n",
    "*This function should return a DataFrame with 20 columns and 15 entries.*"
   ]
  },
  {
   "cell_type": "code",
   "execution_count": 1,
   "metadata": {
    "colab": {},
    "colab_type": "code",
    "id": "GgHBb48j4kWn"
   },
   "outputs": [],
   "source": [
    "import pandas as pd\n",
    "import numpy as np"
   ]
  },
  {
   "cell_type": "code",
   "execution_count": 2,
   "metadata": {},
   "outputs": [
    {
     "name": "stdout",
     "output_type": "stream",
     "text": [
      "Requirement already satisfied: xlrd in c:\\users\\sahil mutha\\appdata\\local\\programs\\python\\python39\\lib\\site-packages (2.0.1)\n"
     ]
    },
    {
     "name": "stderr",
     "output_type": "stream",
     "text": [
      "WARNING: You are using pip version 21.1.2; however, version 22.2 is available.\n",
      "You should consider upgrading via the 'c:\\users\\sahil mutha\\appdata\\local\\programs\\python\\python39\\python.exe -m pip install --upgrade pip' command.\n"
     ]
    },
    {
     "name": "stdout",
     "output_type": "stream",
     "text": [
      "Requirement already satisfied: openpyxl in c:\\users\\sahil mutha\\appdata\\local\\programs\\python\\python39\\lib\\site-packages (3.0.10)\n",
      "Requirement already satisfied: et-xmlfile in c:\\users\\sahil mutha\\appdata\\local\\programs\\python\\python39\\lib\\site-packages (from openpyxl) (1.1.0)\n"
     ]
    },
    {
     "name": "stderr",
     "output_type": "stream",
     "text": [
      "WARNING: You are using pip version 21.1.2; however, version 22.2 is available.\n",
      "You should consider upgrading via the 'c:\\users\\sahil mutha\\appdata\\local\\programs\\python\\python39\\python.exe -m pip install --upgrade pip' command.\n"
     ]
    }
   ],
   "source": [
    "!pip install xlrd\n",
    "!pip install openpyxl"
   ]
  },
  {
   "cell_type": "code",
   "execution_count": 3,
   "metadata": {
    "colab": {},
    "colab_type": "code",
    "id": "3FdLNlMv4kW2",
    "outputId": "e8d9fd13-b0f0-44fb-a37f-6a729042c51e",
    "umich_part_id": "009",
    "umich_partlist_id": "003"
   },
   "outputs": [
    {
     "name": "stderr",
     "output_type": "stream",
     "text": [
      "<ipython-input-3-619b5428be1d>:8: FutureWarning: The default value of regex will change from True to False in a future version.\n",
      "  energy.Country = energy.Country.str.replace(r\" \\(.*\\)\",\"\")\n",
      "<ipython-input-3-619b5428be1d>:9: FutureWarning: The default value of regex will change from True to False in a future version.\n",
      "  energy.Country = energy.Country.str.replace(r\"[0-9]\",\"\")\n"
     ]
    },
    {
     "data": {
      "text/html": [
       "<div>\n",
       "<style scoped>\n",
       "    .dataframe tbody tr th:only-of-type {\n",
       "        vertical-align: middle;\n",
       "    }\n",
       "\n",
       "    .dataframe tbody tr th {\n",
       "        vertical-align: top;\n",
       "    }\n",
       "\n",
       "    .dataframe thead th {\n",
       "        text-align: right;\n",
       "    }\n",
       "</style>\n",
       "<table border=\"1\" class=\"dataframe\">\n",
       "  <thead>\n",
       "    <tr style=\"text-align: right;\">\n",
       "      <th></th>\n",
       "      <th>Rank</th>\n",
       "      <th>Documents</th>\n",
       "      <th>Citable documents</th>\n",
       "      <th>Citations</th>\n",
       "      <th>Self-citations</th>\n",
       "      <th>Citations per document</th>\n",
       "      <th>H index</th>\n",
       "      <th>Energy Supply</th>\n",
       "      <th>Energy Supply per Capita</th>\n",
       "      <th>% Renewable</th>\n",
       "      <th>2006</th>\n",
       "      <th>2007</th>\n",
       "      <th>2008</th>\n",
       "      <th>2009</th>\n",
       "      <th>2010</th>\n",
       "      <th>2011</th>\n",
       "      <th>2012</th>\n",
       "      <th>2013</th>\n",
       "      <th>2014</th>\n",
       "      <th>2015</th>\n",
       "    </tr>\n",
       "    <tr>\n",
       "      <th>Country</th>\n",
       "      <th></th>\n",
       "      <th></th>\n",
       "      <th></th>\n",
       "      <th></th>\n",
       "      <th></th>\n",
       "      <th></th>\n",
       "      <th></th>\n",
       "      <th></th>\n",
       "      <th></th>\n",
       "      <th></th>\n",
       "      <th></th>\n",
       "      <th></th>\n",
       "      <th></th>\n",
       "      <th></th>\n",
       "      <th></th>\n",
       "      <th></th>\n",
       "      <th></th>\n",
       "      <th></th>\n",
       "      <th></th>\n",
       "      <th></th>\n",
       "    </tr>\n",
       "  </thead>\n",
       "  <tbody>\n",
       "    <tr>\n",
       "      <th>China</th>\n",
       "      <td>1</td>\n",
       "      <td>127050</td>\n",
       "      <td>126767</td>\n",
       "      <td>597237</td>\n",
       "      <td>411683</td>\n",
       "      <td>4.70</td>\n",
       "      <td>138</td>\n",
       "      <td>1.271910e+11</td>\n",
       "      <td>93.0</td>\n",
       "      <td>19.754910</td>\n",
       "      <td>3.992330e+12</td>\n",
       "      <td>4.559040e+12</td>\n",
       "      <td>4.997780e+12</td>\n",
       "      <td>5.459250e+12</td>\n",
       "      <td>6.039660e+12</td>\n",
       "      <td>6.612490e+12</td>\n",
       "      <td>7.124980e+12</td>\n",
       "      <td>7.672450e+12</td>\n",
       "      <td>8.230120e+12</td>\n",
       "      <td>8.798000e+12</td>\n",
       "    </tr>\n",
       "    <tr>\n",
       "      <th>United States</th>\n",
       "      <td>2</td>\n",
       "      <td>96661</td>\n",
       "      <td>94747</td>\n",
       "      <td>792274</td>\n",
       "      <td>265436</td>\n",
       "      <td>8.20</td>\n",
       "      <td>230</td>\n",
       "      <td>9.083800e+10</td>\n",
       "      <td>286.0</td>\n",
       "      <td>11.570980</td>\n",
       "      <td>1.479230e+13</td>\n",
       "      <td>1.505540e+13</td>\n",
       "      <td>1.501150e+13</td>\n",
       "      <td>1.459480e+13</td>\n",
       "      <td>1.496440e+13</td>\n",
       "      <td>1.520400e+13</td>\n",
       "      <td>1.554220e+13</td>\n",
       "      <td>1.577370e+13</td>\n",
       "      <td>1.615660e+13</td>\n",
       "      <td>1.654860e+13</td>\n",
       "    </tr>\n",
       "    <tr>\n",
       "      <th>Japan</th>\n",
       "      <td>3</td>\n",
       "      <td>30504</td>\n",
       "      <td>30287</td>\n",
       "      <td>223024</td>\n",
       "      <td>61554</td>\n",
       "      <td>7.31</td>\n",
       "      <td>134</td>\n",
       "      <td>1.898400e+10</td>\n",
       "      <td>149.0</td>\n",
       "      <td>10.232820</td>\n",
       "      <td>5.496540e+12</td>\n",
       "      <td>5.617040e+12</td>\n",
       "      <td>5.558530e+12</td>\n",
       "      <td>5.251310e+12</td>\n",
       "      <td>5.498720e+12</td>\n",
       "      <td>5.473740e+12</td>\n",
       "      <td>5.569100e+12</td>\n",
       "      <td>5.644660e+12</td>\n",
       "      <td>5.642880e+12</td>\n",
       "      <td>5.669560e+12</td>\n",
       "    </tr>\n",
       "    <tr>\n",
       "      <th>United Kingdom</th>\n",
       "      <td>4</td>\n",
       "      <td>20944</td>\n",
       "      <td>20357</td>\n",
       "      <td>206091</td>\n",
       "      <td>37874</td>\n",
       "      <td>9.84</td>\n",
       "      <td>139</td>\n",
       "      <td>7.920000e+09</td>\n",
       "      <td>124.0</td>\n",
       "      <td>10.600470</td>\n",
       "      <td>2.419630e+12</td>\n",
       "      <td>2.482200e+12</td>\n",
       "      <td>2.470610e+12</td>\n",
       "      <td>2.367050e+12</td>\n",
       "      <td>2.403500e+12</td>\n",
       "      <td>2.450910e+12</td>\n",
       "      <td>2.479810e+12</td>\n",
       "      <td>2.533370e+12</td>\n",
       "      <td>2.605640e+12</td>\n",
       "      <td>2.666330e+12</td>\n",
       "    </tr>\n",
       "    <tr>\n",
       "      <th>Russian Federation</th>\n",
       "      <td>5</td>\n",
       "      <td>18534</td>\n",
       "      <td>18301</td>\n",
       "      <td>34266</td>\n",
       "      <td>12422</td>\n",
       "      <td>1.85</td>\n",
       "      <td>57</td>\n",
       "      <td>3.070900e+10</td>\n",
       "      <td>214.0</td>\n",
       "      <td>17.288680</td>\n",
       "      <td>1.385790e+12</td>\n",
       "      <td>1.504070e+12</td>\n",
       "      <td>1.583000e+12</td>\n",
       "      <td>1.459200e+12</td>\n",
       "      <td>1.524920e+12</td>\n",
       "      <td>1.589940e+12</td>\n",
       "      <td>1.645880e+12</td>\n",
       "      <td>1.666930e+12</td>\n",
       "      <td>1.678710e+12</td>\n",
       "      <td>1.616150e+12</td>\n",
       "    </tr>\n",
       "    <tr>\n",
       "      <th>Canada</th>\n",
       "      <td>6</td>\n",
       "      <td>17899</td>\n",
       "      <td>17620</td>\n",
       "      <td>215003</td>\n",
       "      <td>40930</td>\n",
       "      <td>12.01</td>\n",
       "      <td>149</td>\n",
       "      <td>1.043100e+10</td>\n",
       "      <td>296.0</td>\n",
       "      <td>61.945430</td>\n",
       "      <td>1.564470e+12</td>\n",
       "      <td>1.596740e+12</td>\n",
       "      <td>1.612710e+12</td>\n",
       "      <td>1.565140e+12</td>\n",
       "      <td>1.613410e+12</td>\n",
       "      <td>1.664090e+12</td>\n",
       "      <td>1.693130e+12</td>\n",
       "      <td>1.730690e+12</td>\n",
       "      <td>1.773490e+12</td>\n",
       "      <td>1.792610e+12</td>\n",
       "    </tr>\n",
       "    <tr>\n",
       "      <th>Germany</th>\n",
       "      <td>7</td>\n",
       "      <td>17027</td>\n",
       "      <td>16831</td>\n",
       "      <td>140566</td>\n",
       "      <td>27426</td>\n",
       "      <td>8.26</td>\n",
       "      <td>126</td>\n",
       "      <td>1.326100e+10</td>\n",
       "      <td>165.0</td>\n",
       "      <td>17.901530</td>\n",
       "      <td>3.332890e+12</td>\n",
       "      <td>3.441560e+12</td>\n",
       "      <td>3.478810e+12</td>\n",
       "      <td>3.283340e+12</td>\n",
       "      <td>3.417300e+12</td>\n",
       "      <td>3.542370e+12</td>\n",
       "      <td>3.556720e+12</td>\n",
       "      <td>3.567320e+12</td>\n",
       "      <td>3.624390e+12</td>\n",
       "      <td>3.685560e+12</td>\n",
       "    </tr>\n",
       "    <tr>\n",
       "      <th>India</th>\n",
       "      <td>8</td>\n",
       "      <td>15005</td>\n",
       "      <td>14841</td>\n",
       "      <td>128763</td>\n",
       "      <td>37209</td>\n",
       "      <td>8.58</td>\n",
       "      <td>115</td>\n",
       "      <td>3.319500e+10</td>\n",
       "      <td>26.0</td>\n",
       "      <td>14.969080</td>\n",
       "      <td>1.265890e+12</td>\n",
       "      <td>1.374870e+12</td>\n",
       "      <td>1.428360e+12</td>\n",
       "      <td>1.549480e+12</td>\n",
       "      <td>1.708460e+12</td>\n",
       "      <td>1.821870e+12</td>\n",
       "      <td>1.924240e+12</td>\n",
       "      <td>2.051980e+12</td>\n",
       "      <td>2.200620e+12</td>\n",
       "      <td>2.367210e+12</td>\n",
       "    </tr>\n",
       "    <tr>\n",
       "      <th>France</th>\n",
       "      <td>9</td>\n",
       "      <td>13153</td>\n",
       "      <td>12973</td>\n",
       "      <td>130632</td>\n",
       "      <td>28601</td>\n",
       "      <td>9.93</td>\n",
       "      <td>114</td>\n",
       "      <td>1.059700e+10</td>\n",
       "      <td>166.0</td>\n",
       "      <td>17.020280</td>\n",
       "      <td>2.607840e+12</td>\n",
       "      <td>2.669420e+12</td>\n",
       "      <td>2.674640e+12</td>\n",
       "      <td>2.595970e+12</td>\n",
       "      <td>2.646990e+12</td>\n",
       "      <td>2.702030e+12</td>\n",
       "      <td>2.706970e+12</td>\n",
       "      <td>2.722570e+12</td>\n",
       "      <td>2.729630e+12</td>\n",
       "      <td>2.761190e+12</td>\n",
       "    </tr>\n",
       "    <tr>\n",
       "      <th>South Korea</th>\n",
       "      <td>10</td>\n",
       "      <td>11983</td>\n",
       "      <td>11923</td>\n",
       "      <td>114675</td>\n",
       "      <td>22595</td>\n",
       "      <td>9.57</td>\n",
       "      <td>104</td>\n",
       "      <td>1.100700e+10</td>\n",
       "      <td>221.0</td>\n",
       "      <td>2.279353</td>\n",
       "      <td>9.410200e+11</td>\n",
       "      <td>9.924320e+11</td>\n",
       "      <td>1.020510e+12</td>\n",
       "      <td>1.027730e+12</td>\n",
       "      <td>1.094500e+12</td>\n",
       "      <td>1.134800e+12</td>\n",
       "      <td>1.160810e+12</td>\n",
       "      <td>1.194430e+12</td>\n",
       "      <td>1.234340e+12</td>\n",
       "      <td>1.266580e+12</td>\n",
       "    </tr>\n",
       "    <tr>\n",
       "      <th>Italy</th>\n",
       "      <td>11</td>\n",
       "      <td>10964</td>\n",
       "      <td>10794</td>\n",
       "      <td>111850</td>\n",
       "      <td>26661</td>\n",
       "      <td>10.20</td>\n",
       "      <td>106</td>\n",
       "      <td>6.530000e+09</td>\n",
       "      <td>109.0</td>\n",
       "      <td>33.667230</td>\n",
       "      <td>2.202170e+12</td>\n",
       "      <td>2.234630e+12</td>\n",
       "      <td>2.211150e+12</td>\n",
       "      <td>2.089940e+12</td>\n",
       "      <td>2.125180e+12</td>\n",
       "      <td>2.137440e+12</td>\n",
       "      <td>2.077180e+12</td>\n",
       "      <td>2.040870e+12</td>\n",
       "      <td>2.033870e+12</td>\n",
       "      <td>2.049320e+12</td>\n",
       "    </tr>\n",
       "    <tr>\n",
       "      <th>Spain</th>\n",
       "      <td>12</td>\n",
       "      <td>9428</td>\n",
       "      <td>9330</td>\n",
       "      <td>123336</td>\n",
       "      <td>23964</td>\n",
       "      <td>13.08</td>\n",
       "      <td>115</td>\n",
       "      <td>4.923000e+09</td>\n",
       "      <td>106.0</td>\n",
       "      <td>37.968590</td>\n",
       "      <td>1.414820e+12</td>\n",
       "      <td>1.468150e+12</td>\n",
       "      <td>1.484530e+12</td>\n",
       "      <td>1.431480e+12</td>\n",
       "      <td>1.431670e+12</td>\n",
       "      <td>1.417350e+12</td>\n",
       "      <td>1.380220e+12</td>\n",
       "      <td>1.357140e+12</td>\n",
       "      <td>1.375610e+12</td>\n",
       "      <td>1.419820e+12</td>\n",
       "    </tr>\n",
       "    <tr>\n",
       "      <th>Iran</th>\n",
       "      <td>13</td>\n",
       "      <td>8896</td>\n",
       "      <td>8819</td>\n",
       "      <td>57470</td>\n",
       "      <td>19125</td>\n",
       "      <td>6.46</td>\n",
       "      <td>72</td>\n",
       "      <td>9.172000e+09</td>\n",
       "      <td>119.0</td>\n",
       "      <td>5.707721</td>\n",
       "      <td>3.895520e+11</td>\n",
       "      <td>4.250650e+11</td>\n",
       "      <td>4.289910e+11</td>\n",
       "      <td>4.389210e+11</td>\n",
       "      <td>4.677900e+11</td>\n",
       "      <td>4.853310e+11</td>\n",
       "      <td>4.532570e+11</td>\n",
       "      <td>4.445930e+11</td>\n",
       "      <td>4.639030e+11</td>\n",
       "      <td>NaN</td>\n",
       "    </tr>\n",
       "    <tr>\n",
       "      <th>Australia</th>\n",
       "      <td>14</td>\n",
       "      <td>8831</td>\n",
       "      <td>8725</td>\n",
       "      <td>90765</td>\n",
       "      <td>15606</td>\n",
       "      <td>10.28</td>\n",
       "      <td>107</td>\n",
       "      <td>5.386000e+09</td>\n",
       "      <td>231.0</td>\n",
       "      <td>11.810810</td>\n",
       "      <td>1.021940e+12</td>\n",
       "      <td>1.060340e+12</td>\n",
       "      <td>1.099640e+12</td>\n",
       "      <td>1.119650e+12</td>\n",
       "      <td>1.142250e+12</td>\n",
       "      <td>1.169430e+12</td>\n",
       "      <td>1.211910e+12</td>\n",
       "      <td>1.241480e+12</td>\n",
       "      <td>1.272520e+12</td>\n",
       "      <td>1.301250e+12</td>\n",
       "    </tr>\n",
       "    <tr>\n",
       "      <th>Brazil</th>\n",
       "      <td>15</td>\n",
       "      <td>8668</td>\n",
       "      <td>8596</td>\n",
       "      <td>60702</td>\n",
       "      <td>14396</td>\n",
       "      <td>7.00</td>\n",
       "      <td>86</td>\n",
       "      <td>1.214900e+10</td>\n",
       "      <td>59.0</td>\n",
       "      <td>69.648030</td>\n",
       "      <td>1.845080e+12</td>\n",
       "      <td>1.957120e+12</td>\n",
       "      <td>2.056810e+12</td>\n",
       "      <td>2.054210e+12</td>\n",
       "      <td>2.208870e+12</td>\n",
       "      <td>2.295240e+12</td>\n",
       "      <td>2.339210e+12</td>\n",
       "      <td>2.409740e+12</td>\n",
       "      <td>2.412230e+12</td>\n",
       "      <td>2.319420e+12</td>\n",
       "    </tr>\n",
       "  </tbody>\n",
       "</table>\n",
       "</div>"
      ],
      "text/plain": [
       "                    Rank  Documents  Citable documents  Citations  \\\n",
       "Country                                                             \n",
       "China                  1     127050             126767     597237   \n",
       "United States          2      96661              94747     792274   \n",
       "Japan                  3      30504              30287     223024   \n",
       "United Kingdom         4      20944              20357     206091   \n",
       "Russian Federation     5      18534              18301      34266   \n",
       "Canada                 6      17899              17620     215003   \n",
       "Germany                7      17027              16831     140566   \n",
       "India                  8      15005              14841     128763   \n",
       "France                 9      13153              12973     130632   \n",
       "South Korea           10      11983              11923     114675   \n",
       "Italy                 11      10964              10794     111850   \n",
       "Spain                 12       9428               9330     123336   \n",
       "Iran                  13       8896               8819      57470   \n",
       "Australia             14       8831               8725      90765   \n",
       "Brazil                15       8668               8596      60702   \n",
       "\n",
       "                    Self-citations  Citations per document  H index  \\\n",
       "Country                                                               \n",
       "China                       411683                    4.70      138   \n",
       "United States               265436                    8.20      230   \n",
       "Japan                        61554                    7.31      134   \n",
       "United Kingdom               37874                    9.84      139   \n",
       "Russian Federation           12422                    1.85       57   \n",
       "Canada                       40930                   12.01      149   \n",
       "Germany                      27426                    8.26      126   \n",
       "India                        37209                    8.58      115   \n",
       "France                       28601                    9.93      114   \n",
       "South Korea                  22595                    9.57      104   \n",
       "Italy                        26661                   10.20      106   \n",
       "Spain                        23964                   13.08      115   \n",
       "Iran                         19125                    6.46       72   \n",
       "Australia                    15606                   10.28      107   \n",
       "Brazil                       14396                    7.00       86   \n",
       "\n",
       "                    Energy Supply  Energy Supply per Capita  % Renewable  \\\n",
       "Country                                                                    \n",
       "China                1.271910e+11                      93.0    19.754910   \n",
       "United States        9.083800e+10                     286.0    11.570980   \n",
       "Japan                1.898400e+10                     149.0    10.232820   \n",
       "United Kingdom       7.920000e+09                     124.0    10.600470   \n",
       "Russian Federation   3.070900e+10                     214.0    17.288680   \n",
       "Canada               1.043100e+10                     296.0    61.945430   \n",
       "Germany              1.326100e+10                     165.0    17.901530   \n",
       "India                3.319500e+10                      26.0    14.969080   \n",
       "France               1.059700e+10                     166.0    17.020280   \n",
       "South Korea          1.100700e+10                     221.0     2.279353   \n",
       "Italy                6.530000e+09                     109.0    33.667230   \n",
       "Spain                4.923000e+09                     106.0    37.968590   \n",
       "Iran                 9.172000e+09                     119.0     5.707721   \n",
       "Australia            5.386000e+09                     231.0    11.810810   \n",
       "Brazil               1.214900e+10                      59.0    69.648030   \n",
       "\n",
       "                            2006          2007          2008          2009  \\\n",
       "Country                                                                      \n",
       "China               3.992330e+12  4.559040e+12  4.997780e+12  5.459250e+12   \n",
       "United States       1.479230e+13  1.505540e+13  1.501150e+13  1.459480e+13   \n",
       "Japan               5.496540e+12  5.617040e+12  5.558530e+12  5.251310e+12   \n",
       "United Kingdom      2.419630e+12  2.482200e+12  2.470610e+12  2.367050e+12   \n",
       "Russian Federation  1.385790e+12  1.504070e+12  1.583000e+12  1.459200e+12   \n",
       "Canada              1.564470e+12  1.596740e+12  1.612710e+12  1.565140e+12   \n",
       "Germany             3.332890e+12  3.441560e+12  3.478810e+12  3.283340e+12   \n",
       "India               1.265890e+12  1.374870e+12  1.428360e+12  1.549480e+12   \n",
       "France              2.607840e+12  2.669420e+12  2.674640e+12  2.595970e+12   \n",
       "South Korea         9.410200e+11  9.924320e+11  1.020510e+12  1.027730e+12   \n",
       "Italy               2.202170e+12  2.234630e+12  2.211150e+12  2.089940e+12   \n",
       "Spain               1.414820e+12  1.468150e+12  1.484530e+12  1.431480e+12   \n",
       "Iran                3.895520e+11  4.250650e+11  4.289910e+11  4.389210e+11   \n",
       "Australia           1.021940e+12  1.060340e+12  1.099640e+12  1.119650e+12   \n",
       "Brazil              1.845080e+12  1.957120e+12  2.056810e+12  2.054210e+12   \n",
       "\n",
       "                            2010          2011          2012          2013  \\\n",
       "Country                                                                      \n",
       "China               6.039660e+12  6.612490e+12  7.124980e+12  7.672450e+12   \n",
       "United States       1.496440e+13  1.520400e+13  1.554220e+13  1.577370e+13   \n",
       "Japan               5.498720e+12  5.473740e+12  5.569100e+12  5.644660e+12   \n",
       "United Kingdom      2.403500e+12  2.450910e+12  2.479810e+12  2.533370e+12   \n",
       "Russian Federation  1.524920e+12  1.589940e+12  1.645880e+12  1.666930e+12   \n",
       "Canada              1.613410e+12  1.664090e+12  1.693130e+12  1.730690e+12   \n",
       "Germany             3.417300e+12  3.542370e+12  3.556720e+12  3.567320e+12   \n",
       "India               1.708460e+12  1.821870e+12  1.924240e+12  2.051980e+12   \n",
       "France              2.646990e+12  2.702030e+12  2.706970e+12  2.722570e+12   \n",
       "South Korea         1.094500e+12  1.134800e+12  1.160810e+12  1.194430e+12   \n",
       "Italy               2.125180e+12  2.137440e+12  2.077180e+12  2.040870e+12   \n",
       "Spain               1.431670e+12  1.417350e+12  1.380220e+12  1.357140e+12   \n",
       "Iran                4.677900e+11  4.853310e+11  4.532570e+11  4.445930e+11   \n",
       "Australia           1.142250e+12  1.169430e+12  1.211910e+12  1.241480e+12   \n",
       "Brazil              2.208870e+12  2.295240e+12  2.339210e+12  2.409740e+12   \n",
       "\n",
       "                            2014          2015  \n",
       "Country                                         \n",
       "China               8.230120e+12  8.798000e+12  \n",
       "United States       1.615660e+13  1.654860e+13  \n",
       "Japan               5.642880e+12  5.669560e+12  \n",
       "United Kingdom      2.605640e+12  2.666330e+12  \n",
       "Russian Federation  1.678710e+12  1.616150e+12  \n",
       "Canada              1.773490e+12  1.792610e+12  \n",
       "Germany             3.624390e+12  3.685560e+12  \n",
       "India               2.200620e+12  2.367210e+12  \n",
       "France              2.729630e+12  2.761190e+12  \n",
       "South Korea         1.234340e+12  1.266580e+12  \n",
       "Italy               2.033870e+12  2.049320e+12  \n",
       "Spain               1.375610e+12  1.419820e+12  \n",
       "Iran                4.639030e+11           NaN  \n",
       "Australia           1.272520e+12  1.301250e+12  \n",
       "Brazil              2.412230e+12  2.319420e+12  "
      ]
     },
     "execution_count": 3,
     "metadata": {},
     "output_type": "execute_result"
    }
   ],
   "source": [
    "def read_energy():\n",
    "    energy = pd.read_excel('Energy Indicators.xls', skiprows=17)[:227]\n",
    "    energy = energy.drop(['Unnamed: 0', 'Unnamed: 1'], axis=1)\n",
    "    energy.columns = ['Country', 'Energy Supply', 'Energy Supply per Capita', '% Renewable']\n",
    "    energy = energy.replace('...', np.NaN)\n",
    "    energy['Energy Supply'] *= 1000000\n",
    "\n",
    "    energy.Country = energy.Country.str.replace(r\" \\(.*\\)\",\"\")\n",
    "    energy.Country = energy.Country.str.replace(r\"[0-9]\",\"\")\n",
    "    energy.Country = energy.Country.replace({\"Republic of Korea\": \"South Korea\",\n",
    "                                             \"United States of America\": \"United States\",\n",
    "                                             \"United Kingdom of Great Britain and Northern Ireland\": \"United Kingdom\",\n",
    "                                             \"China, Hong Kong Special Administrative Region\": \"Hong Kong\"})\n",
    "    \n",
    "    return energy\n",
    "\n",
    "def read_gdp():\n",
    "    GDP = pd.read_csv(\"world_bank.csv\", skiprows=5, names=['Country', 'Country Code', 'Indicator Name', \n",
    "                                                           'Indicator Code']+[str(i) for i in range(1960,2016)])\n",
    "    GDP['Country'].replace({\"Korea, Rep.\": \"South Korea\", \n",
    "                                 \"Iran, Islamic Rep.\": \"Iran\",\n",
    "                                 \"Hong Kong SAR, China\": \"Hong Kong\"}, inplace=True)\n",
    "    \n",
    "    return GDP[['Country', '2006', '2007', '2008', '2009', '2010', '2011', '2012', '2013', '2014', '2015']]\n",
    "\n",
    "def read_sciem():\n",
    "    ScimEn = pd.read_excel(\"scimagojr-3.xlsx\")\n",
    "    return ScimEn\n",
    "    \n",
    "def answer_one():\n",
    "    ## energy dataset preprocessing\n",
    "    energy = read_energy()\n",
    "                           \n",
    "    ## GDP dataset preprocessing\n",
    "    GDP = read_gdp()\n",
    "    \n",
    "    ## SciEM dataset preprocessing\n",
    "    ScimEn = read_sciem()\n",
    "#     ScimEn = ScimEn[ScimEn['Rank'] <= 15]\n",
    "    \n",
    "    ## merging the datasets\n",
    "    df = pd.merge(energy, GDP, on='Country', how='inner')\n",
    "    df = df.merge(ScimEn,how='right', on='Country')\n",
    "    \n",
    "    df.set_index('Country', inplace=True)\n",
    "    df = df[['Rank', 'Documents', 'Citable documents', 'Citations', 'Self-citations', \n",
    "             'Citations per document', 'H index', 'Energy Supply', 'Energy Supply per Capita', \n",
    "             '% Renewable', '2006', '2007', '2008', '2009', '2010', '2011', '2012', '2013', '2014', '2015']]\n",
    "    \n",
    "    return df[df['Rank'] <= 15]\n",
    "\n",
    "answer_one()"
   ]
  },
  {
   "cell_type": "markdown",
   "metadata": {
    "colab_type": "text",
    "id": "l8QqJqJN4kXG"
   },
   "source": [
    "### Question 2\n",
    "The previous question joined three datasets then reduced this to just the top 15 entries. When you joined the datasets, but before you reduced this to the top 15 items, how many entries did you lose?\n",
    "\n",
    "*This function should return a single number.*"
   ]
  },
  {
   "cell_type": "code",
   "execution_count": 4,
   "metadata": {
    "colab": {},
    "colab_type": "code",
    "id": "9ZWJH6Bx4kXI",
    "outputId": "45103baf-bbfc-4d82-c822-7f06b7672976"
   },
   "outputs": [
    {
     "data": {
      "text/html": [
       "<svg width=\"800\" height=\"300\">\n",
       "  <circle cx=\"150\" cy=\"180\" r=\"80\" fill-opacity=\"0.2\" stroke=\"black\" stroke-width=\"2\" fill=\"blue\" />\n",
       "  <circle cx=\"200\" cy=\"100\" r=\"80\" fill-opacity=\"0.2\" stroke=\"black\" stroke-width=\"2\" fill=\"red\" />\n",
       "  <circle cx=\"100\" cy=\"100\" r=\"80\" fill-opacity=\"0.2\" stroke=\"black\" stroke-width=\"2\" fill=\"green\" />\n",
       "  <line x1=\"150\" y1=\"125\" x2=\"300\" y2=\"150\" stroke=\"black\" stroke-width=\"2\" fill=\"black\" stroke-dasharray=\"5,3\"/>\n",
       "  <text  x=\"300\" y=\"165\" font-family=\"Verdana\" font-size=\"35\">Everything but this!</text>\n",
       "</svg>\n"
      ],
      "text/plain": [
       "<IPython.core.display.HTML object>"
      ]
     },
     "metadata": {},
     "output_type": "display_data"
    }
   ],
   "source": [
    "%%HTML\n",
    "<svg width=\"800\" height=\"300\">\n",
    "  <circle cx=\"150\" cy=\"180\" r=\"80\" fill-opacity=\"0.2\" stroke=\"black\" stroke-width=\"2\" fill=\"blue\" />\n",
    "  <circle cx=\"200\" cy=\"100\" r=\"80\" fill-opacity=\"0.2\" stroke=\"black\" stroke-width=\"2\" fill=\"red\" />\n",
    "  <circle cx=\"100\" cy=\"100\" r=\"80\" fill-opacity=\"0.2\" stroke=\"black\" stroke-width=\"2\" fill=\"green\" />\n",
    "  <line x1=\"150\" y1=\"125\" x2=\"300\" y2=\"150\" stroke=\"black\" stroke-width=\"2\" fill=\"black\" stroke-dasharray=\"5,3\"/>\n",
    "  <text  x=\"300\" y=\"165\" font-family=\"Verdana\" font-size=\"35\">Everything but this!</text>\n",
    "</svg>"
   ]
  },
  {
   "cell_type": "code",
   "execution_count": 5,
   "metadata": {
    "colab": {},
    "colab_type": "code",
    "id": "8osDyIHM4kXO",
    "outputId": "58729169-7f69-405f-eaab-17771de0828c",
    "umich_part_id": "010",
    "umich_partlist_id": "003"
   },
   "outputs": [
    {
     "name": "stderr",
     "output_type": "stream",
     "text": [
      "<ipython-input-3-619b5428be1d>:8: FutureWarning: The default value of regex will change from True to False in a future version.\n",
      "  energy.Country = energy.Country.str.replace(r\" \\(.*\\)\",\"\")\n",
      "<ipython-input-3-619b5428be1d>:9: FutureWarning: The default value of regex will change from True to False in a future version.\n",
      "  energy.Country = energy.Country.str.replace(r\"[0-9]\",\"\")\n"
     ]
    },
    {
     "data": {
      "text/plain": [
       "158"
      ]
     },
     "execution_count": 5,
     "metadata": {},
     "output_type": "execute_result"
    }
   ],
   "source": [
    "def answer_two():\n",
    "    energy = read_energy()\n",
    "    ScimEn = read_sciem()\n",
    "    GDP = read_gdp()\n",
    "    df = pd.merge(energy, GDP, on='Country', how='outer')\n",
    "    df = df.merge(ScimEn,how='outer', on='Country')\n",
    "    \n",
    "    df2 = pd.merge(energy, GDP, on='Country', how='inner')\n",
    "    df2 = df2.merge(ScimEn, on='Country', how='inner')\n",
    "    return len(df)-len(df2)\n",
    "\n",
    "answer_two()"
   ]
  },
  {
   "cell_type": "markdown",
   "metadata": {
    "colab_type": "text",
    "id": "A2A3N8RJ4kXV"
   },
   "source": [
    "## Answer the following questions in the context of only the top 15 countries by Scimagojr Rank (aka the DataFrame returned by `answer_one()`)"
   ]
  },
  {
   "cell_type": "markdown",
   "metadata": {
    "colab_type": "text",
    "id": "AY3Kgru24kXW"
   },
   "source": [
    "### Question 3\n",
    "What is the average GDP over the last 10 years for each country? (exclude missing values from this calculation.)\n",
    "\n",
    "*This function should return a Series named `avgGDP` with 15 countries and their average GDP sorted in descending order.*"
   ]
  },
  {
   "cell_type": "code",
   "execution_count": 6,
   "metadata": {
    "colab": {},
    "colab_type": "code",
    "id": "kmAvRvH-4kXY",
    "outputId": "d41eef88-1a16-4955-85b8-219a9d54f435",
    "scrolled": true,
    "umich_part_id": "011",
    "umich_partlist_id": "003"
   },
   "outputs": [
    {
     "name": "stderr",
     "output_type": "stream",
     "text": [
      "<ipython-input-3-619b5428be1d>:8: FutureWarning: The default value of regex will change from True to False in a future version.\n",
      "  energy.Country = energy.Country.str.replace(r\" \\(.*\\)\",\"\")\n",
      "<ipython-input-3-619b5428be1d>:9: FutureWarning: The default value of regex will change from True to False in a future version.\n",
      "  energy.Country = energy.Country.str.replace(r\"[0-9]\",\"\")\n"
     ]
    },
    {
     "data": {
      "text/plain": [
       "Country\n",
       "United States         1.536435e+13\n",
       "China                 6.348610e+12\n",
       "Japan                 5.542208e+12\n",
       "Germany               3.493026e+12\n",
       "France                2.681725e+12\n",
       "United Kingdom        2.487905e+12\n",
       "Brazil                2.189793e+12\n",
       "Italy                 2.120175e+12\n",
       "India                 1.769298e+12\n",
       "Canada                1.660648e+12\n",
       "Russian Federation    1.565459e+12\n",
       "Spain                 1.418079e+12\n",
       "Australia             1.164041e+12\n",
       "South Korea           1.106715e+12\n",
       "Iran                  4.441559e+11\n",
       "Name: avgGDP, dtype: float64"
      ]
     },
     "execution_count": 6,
     "metadata": {},
     "output_type": "execute_result"
    }
   ],
   "source": [
    "def answer_three():\n",
    "    Top15 = answer_one()\n",
    "    df = pd.Series(Top15[['2006', '2007', '2008', '2009', '2010', '2011', '2012', '2013', '2014', '2015']].mean(axis=1), name='avgGDP')\n",
    "    return df.sort_values(ascending=False)\n",
    "\n",
    "answer_three()"
   ]
  },
  {
   "cell_type": "markdown",
   "metadata": {
    "colab_type": "text",
    "id": "Jkm-5zry4kXc"
   },
   "source": [
    "### Question 4\n",
    "By how much had the GDP changed over the 10 year span for the country with the 6th largest average GDP?\n",
    "\n",
    "*This function should return a single number.*"
   ]
  },
  {
   "cell_type": "code",
   "execution_count": 7,
   "metadata": {
    "colab": {},
    "colab_type": "code",
    "id": "U-nXKj1t4kXd",
    "outputId": "0c419d36-d2ba-461d-f566-8f0a560ba1da",
    "scrolled": true,
    "umich_part_id": "012",
    "umich_partlist_id": "003"
   },
   "outputs": [
    {
     "name": "stderr",
     "output_type": "stream",
     "text": [
      "<ipython-input-3-619b5428be1d>:8: FutureWarning: The default value of regex will change from True to False in a future version.\n",
      "  energy.Country = energy.Country.str.replace(r\" \\(.*\\)\",\"\")\n",
      "<ipython-input-3-619b5428be1d>:9: FutureWarning: The default value of regex will change from True to False in a future version.\n",
      "  energy.Country = energy.Country.str.replace(r\"[0-9]\",\"\")\n",
      "<ipython-input-3-619b5428be1d>:8: FutureWarning: The default value of regex will change from True to False in a future version.\n",
      "  energy.Country = energy.Country.str.replace(r\" \\(.*\\)\",\"\")\n",
      "<ipython-input-3-619b5428be1d>:9: FutureWarning: The default value of regex will change from True to False in a future version.\n",
      "  energy.Country = energy.Country.str.replace(r\"[0-9]\",\"\")\n"
     ]
    },
    {
     "data": {
      "text/plain": [
       "246700000000.0"
      ]
     },
     "execution_count": 7,
     "metadata": {},
     "output_type": "execute_result"
    }
   ],
   "source": [
    "def answer_four():\n",
    "    Top15 = answer_one()\n",
    "    target = answer_three().index[5]\n",
    "    \n",
    "    return Top15.loc[target,'2015']-Top15.loc[target,'2006']\n",
    "\n",
    "answer_four()"
   ]
  },
  {
   "cell_type": "markdown",
   "metadata": {
    "colab_type": "text",
    "id": "ojuzsl3z4kXh"
   },
   "source": [
    "### Question 5\n",
    "What is the mean `Energy Supply per Capita`?\n",
    "\n",
    "*This function should return a single number.*"
   ]
  },
  {
   "cell_type": "code",
   "execution_count": 8,
   "metadata": {
    "colab": {},
    "colab_type": "code",
    "id": "iAYPTmqG4kXi",
    "outputId": "03b78652-e0a0-4c1c-8ab5-b11da050c93e",
    "umich_part_id": "013",
    "umich_partlist_id": "003"
   },
   "outputs": [
    {
     "name": "stderr",
     "output_type": "stream",
     "text": [
      "<ipython-input-3-619b5428be1d>:8: FutureWarning: The default value of regex will change from True to False in a future version.\n",
      "  energy.Country = energy.Country.str.replace(r\" \\(.*\\)\",\"\")\n",
      "<ipython-input-3-619b5428be1d>:9: FutureWarning: The default value of regex will change from True to False in a future version.\n",
      "  energy.Country = energy.Country.str.replace(r\"[0-9]\",\"\")\n"
     ]
    },
    {
     "data": {
      "text/plain": [
       "157.6"
      ]
     },
     "execution_count": 8,
     "metadata": {},
     "output_type": "execute_result"
    }
   ],
   "source": [
    "def answer_five():\n",
    "    Top15 = answer_one()\n",
    "    \n",
    "    return Top15['Energy Supply per Capita'].mean()\n",
    "\n",
    "answer_five()"
   ]
  },
  {
   "cell_type": "markdown",
   "metadata": {
    "colab_type": "text",
    "id": "dJv-YdWV4kXu"
   },
   "source": [
    "### Question 6\n",
    "What country has the maximum % Renewable and what is the percentage?\n",
    "\n",
    "*This function should return a tuple with the name of the country and the percentage.*"
   ]
  },
  {
   "cell_type": "code",
   "execution_count": 9,
   "metadata": {
    "colab": {},
    "colab_type": "code",
    "id": "DdpKOf4f4kXv",
    "outputId": "23d28ea5-a414-4249-8b36-551b7e4752b4",
    "umich_part_id": "014",
    "umich_partlist_id": "003"
   },
   "outputs": [
    {
     "name": "stderr",
     "output_type": "stream",
     "text": [
      "<ipython-input-3-619b5428be1d>:8: FutureWarning: The default value of regex will change from True to False in a future version.\n",
      "  energy.Country = energy.Country.str.replace(r\" \\(.*\\)\",\"\")\n",
      "<ipython-input-3-619b5428be1d>:9: FutureWarning: The default value of regex will change from True to False in a future version.\n",
      "  energy.Country = energy.Country.str.replace(r\"[0-9]\",\"\")\n"
     ]
    },
    {
     "data": {
      "text/plain": [
       "('Brazil', 69.64803)"
      ]
     },
     "execution_count": 9,
     "metadata": {},
     "output_type": "execute_result"
    }
   ],
   "source": [
    "def answer_six():\n",
    "    Top15 = answer_one()\n",
    "    \n",
    "    return Top15['% Renewable'].idxmax(), Top15['% Renewable'].max()\n",
    "\n",
    "answer_six()"
   ]
  },
  {
   "cell_type": "markdown",
   "metadata": {
    "colab_type": "text",
    "id": "dS5KIzHX4kXz"
   },
   "source": [
    "### Question 7\n",
    "Create a new column that is the ratio of Self-Citations to Total Citations. \n",
    "What is the maximum value for this new column, and what country has the highest ratio?\n",
    "\n",
    "*This function should return a tuple with the name of the country and the ratio.*"
   ]
  },
  {
   "cell_type": "code",
   "execution_count": 10,
   "metadata": {
    "colab": {},
    "colab_type": "code",
    "id": "gDjg2Tuu4kX0",
    "outputId": "738c3969-cef1-47da-df7b-56839825b125",
    "umich_part_id": "015",
    "umich_partlist_id": "003"
   },
   "outputs": [
    {
     "name": "stderr",
     "output_type": "stream",
     "text": [
      "<ipython-input-3-619b5428be1d>:8: FutureWarning: The default value of regex will change from True to False in a future version.\n",
      "  energy.Country = energy.Country.str.replace(r\" \\(.*\\)\",\"\")\n",
      "<ipython-input-3-619b5428be1d>:9: FutureWarning: The default value of regex will change from True to False in a future version.\n",
      "  energy.Country = energy.Country.str.replace(r\"[0-9]\",\"\")\n"
     ]
    },
    {
     "data": {
      "text/plain": [
       "('China', 0.6893126179389422)"
      ]
     },
     "execution_count": 10,
     "metadata": {},
     "output_type": "execute_result"
    }
   ],
   "source": [
    "def answer_seven():\n",
    "    Top15 = answer_one()\n",
    "    Top15['citation_ratio'] = Top15['Self-citations']/Top15['Citations']\n",
    "    \n",
    "    return Top15['citation_ratio'].idxmax(), Top15['citation_ratio'].max()\n",
    "\n",
    "answer_seven()"
   ]
  },
  {
   "cell_type": "markdown",
   "metadata": {
    "colab_type": "text",
    "id": "NtD0Nymi4kX5"
   },
   "source": [
    "### Question 8\n",
    "\n",
    "Create a column that estimates the population using Energy Supply and Energy Supply per capita. \n",
    "What is the third most populous country according to this estimate?\n",
    "\n",
    "*This function should return a single string value.*"
   ]
  },
  {
   "cell_type": "code",
   "execution_count": 11,
   "metadata": {
    "colab": {},
    "colab_type": "code",
    "id": "2awmzk8a4kX6",
    "outputId": "9b000599-fcbd-45b3-a9c3-a4b8df7c7357",
    "umich_part_id": "016",
    "umich_partlist_id": "003"
   },
   "outputs": [
    {
     "name": "stderr",
     "output_type": "stream",
     "text": [
      "<ipython-input-3-619b5428be1d>:8: FutureWarning: The default value of regex will change from True to False in a future version.\n",
      "  energy.Country = energy.Country.str.replace(r\" \\(.*\\)\",\"\")\n",
      "<ipython-input-3-619b5428be1d>:9: FutureWarning: The default value of regex will change from True to False in a future version.\n",
      "  energy.Country = energy.Country.str.replace(r\"[0-9]\",\"\")\n"
     ]
    },
    {
     "data": {
      "text/plain": [
       "'United States'"
      ]
     },
     "execution_count": 11,
     "metadata": {},
     "output_type": "execute_result"
    }
   ],
   "source": [
    "def answer_eight():\n",
    "    Top15 = answer_one()\n",
    "    Top15['population'] = Top15['Energy Supply'] / Top15['Energy Supply per Capita']\n",
    "    \n",
    "    return Top15['population'].sort_values(ascending=False).index[2]\n",
    "\n",
    "answer_eight()"
   ]
  },
  {
   "cell_type": "markdown",
   "metadata": {
    "colab_type": "text",
    "id": "DHk0Gvhx4kYA"
   },
   "source": [
    "### Question 9\n",
    "Create a column that estimates the number of citable documents per person. \n",
    "What is the correlation between the number of citable documents per capita and the energy supply per capita? Use the `.corr()` method, (Pearson's correlation).\n",
    "\n",
    "*This function should return a single number.*\n",
    "\n",
    "*(Optional: Use the built-in function `plot9()` to visualize the relationship between Energy Supply per Capita vs. Citable docs per Capita)*"
   ]
  },
  {
   "cell_type": "code",
   "execution_count": 12,
   "metadata": {
    "colab": {},
    "colab_type": "code",
    "id": "JqnIcpK94kYB",
    "outputId": "44b24e32-2e9a-4f49-a0e3-255dbdb401d6",
    "umich_part_id": "017",
    "umich_partlist_id": "003"
   },
   "outputs": [
    {
     "name": "stderr",
     "output_type": "stream",
     "text": [
      "<ipython-input-3-619b5428be1d>:8: FutureWarning: The default value of regex will change from True to False in a future version.\n",
      "  energy.Country = energy.Country.str.replace(r\" \\(.*\\)\",\"\")\n",
      "<ipython-input-3-619b5428be1d>:9: FutureWarning: The default value of regex will change from True to False in a future version.\n",
      "  energy.Country = energy.Country.str.replace(r\"[0-9]\",\"\")\n"
     ]
    },
    {
     "data": {
      "text/plain": [
       "0.7940010435442945"
      ]
     },
     "execution_count": 12,
     "metadata": {},
     "output_type": "execute_result"
    }
   ],
   "source": [
    "def answer_nine():\n",
    "    Top15 = answer_one()\n",
    "    Top15['population'] = Top15['Energy Supply'] / Top15['Energy Supply per Capita']\n",
    "    Top15['cdpp'] = Top15['Citable documents']/Top15['population']\n",
    "    return Top15[['cdpp', 'Energy Supply per Capita']].corr().loc['cdpp', 'Energy Supply per Capita']\n",
    "\n",
    "answer_nine()"
   ]
  },
  {
   "cell_type": "code",
   "execution_count": 13,
   "metadata": {
    "colab": {},
    "colab_type": "code",
    "id": "24lkcrDi4kYM"
   },
   "outputs": [],
   "source": [
    "def plot9():\n",
    "    import matplotlib as plt\n",
    "    %matplotlib inline\n",
    "    \n",
    "    Top15 = answer_one()\n",
    "    Top15['PopEst'] = Top15['Energy Supply'] / Top15['Energy Supply per Capita']\n",
    "    Top15['Citable docs per Capita'] = Top15['Citable documents'] / Top15['PopEst']\n",
    "    Top15.plot(x='Citable docs per Capita', y='Energy Supply per Capita', kind='scatter', xlim=[0, 0.0006])"
   ]
  },
  {
   "cell_type": "code",
   "execution_count": 14,
   "metadata": {
    "colab": {},
    "colab_type": "code",
    "id": "RHkblvU74kYT",
    "outputId": "5d821011-2cef-4e83-af76-ab44700c8050"
   },
   "outputs": [
    {
     "name": "stderr",
     "output_type": "stream",
     "text": [
      "<ipython-input-3-619b5428be1d>:8: FutureWarning: The default value of regex will change from True to False in a future version.\n",
      "  energy.Country = energy.Country.str.replace(r\" \\(.*\\)\",\"\")\n",
      "<ipython-input-3-619b5428be1d>:9: FutureWarning: The default value of regex will change from True to False in a future version.\n",
      "  energy.Country = energy.Country.str.replace(r\"[0-9]\",\"\")\n"
     ]
    },
    {
     "data": {
      "image/png": "[encoded data removed]",
      "text/plain": [
       "<Figure size 432x288 with 1 Axes>"
      ]
     },
     "metadata": {
      "needs_background": "light"
     },
     "output_type": "display_data"
    }
   ],
   "source": [
    "plot9() # Be sure to comment out plot9() before submitting the assignment!"
   ]
  },
  {
   "cell_type": "markdown",
   "metadata": {
    "colab_type": "text",
    "id": "36QoPiFK4kYb"
   },
   "source": [
    "### Question 10\n",
    "Create a new column with a 1 if the country's % Renewable value is at or above the median for all countries in the top 15, and a 0 if the country's % Renewable value is below the median.\n",
    "\n",
    "*This function should return a series named `HighRenew` whose index is the country name sorted in ascending order of rank.*"
   ]
  },
  {
   "cell_type": "code",
   "execution_count": 15,
   "metadata": {
    "colab": {},
    "colab_type": "code",
    "id": "u00OH3Fc4kYd",
    "outputId": "7ec85764-0a7a-48d9-91a1-b310c0d69ada",
    "umich_part_id": "018",
    "umich_partlist_id": "003"
   },
   "outputs": [
    {
     "name": "stderr",
     "output_type": "stream",
     "text": [
      "<ipython-input-3-619b5428be1d>:8: FutureWarning: The default value of regex will change from True to False in a future version.\n",
      "  energy.Country = energy.Country.str.replace(r\" \\(.*\\)\",\"\")\n",
      "<ipython-input-3-619b5428be1d>:9: FutureWarning: The default value of regex will change from True to False in a future version.\n",
      "  energy.Country = energy.Country.str.replace(r\"[0-9]\",\"\")\n"
     ]
    },
    {
     "data": {
      "text/plain": [
       "Country\n",
       "China                 1\n",
       "United States         0\n",
       "Japan                 0\n",
       "United Kingdom        0\n",
       "Russian Federation    1\n",
       "Canada                1\n",
       "Germany               1\n",
       "India                 0\n",
       "France                1\n",
       "South Korea           0\n",
       "Italy                 1\n",
       "Spain                 1\n",
       "Iran                  0\n",
       "Australia             0\n",
       "Brazil                1\n",
       "Name: HighRenew, dtype: int64"
      ]
     },
     "execution_count": 15,
     "metadata": {},
     "output_type": "execute_result"
    }
   ],
   "source": [
    "def answer_ten():\n",
    "    Top15 = answer_one()\n",
    "    median = Top15['% Renewable'].median()\n",
    "    Top15['HighRenew'] = Top15['% Renewable'].apply(lambda x: 1 if x >= median else 0)\n",
    "    return Top15['HighRenew']\n",
    "\n",
    "answer_ten()"
   ]
  },
  {
   "cell_type": "markdown",
   "metadata": {
    "colab_type": "text",
    "id": "JiBqBLAb4kYm"
   },
   "source": [
    "### Question 11\n",
    "Use the following dictionary to group the Countries by Continent, then create a dateframe that displays the sample size (the number of countries in each continent bin), and the sum, mean, and std deviation for the estimated population of each country.\n",
    "\n",
    "```python\n",
    "ContinentDict  = {'China':'Asia', \n",
    "                  'United States':'North America', \n",
    "                  'Japan':'Asia', \n",
    "                  'United Kingdom':'Europe', \n",
    "                  'Russian Federation':'Europe', \n",
    "                  'Canada':'North America', \n",
    "                  'Germany':'Europe', \n",
    "                  'India':'Asia',\n",
    "                  'France':'Europe', \n",
    "                  'South Korea':'Asia', \n",
    "                  'Italy':'Europe', \n",
    "                  'Spain':'Europe', \n",
    "                  'Iran':'Asia',\n",
    "                  'Australia':'Australia', \n",
    "                  'Brazil':'South America'}\n",
    "```\n",
    "\n",
    "*This function should return a DataFrame with index named Continent `['Asia', 'Australia', 'Europe', 'North America', 'South America']` and columns `['size', 'sum', 'mean', 'std']`*"
   ]
  },
  {
   "cell_type": "code",
   "execution_count": 16,
   "metadata": {
    "colab": {},
    "colab_type": "code",
    "id": "B9Q8siVO4kYq",
    "outputId": "c9c8e28c-20c4-40c7-c61d-36a41eef5ff6",
    "umich_part_id": "019",
    "umich_partlist_id": "003"
   },
   "outputs": [
    {
     "name": "stderr",
     "output_type": "stream",
     "text": [
      "<ipython-input-3-619b5428be1d>:8: FutureWarning: The default value of regex will change from True to False in a future version.\n",
      "  energy.Country = energy.Country.str.replace(r\" \\(.*\\)\",\"\")\n",
      "<ipython-input-3-619b5428be1d>:9: FutureWarning: The default value of regex will change from True to False in a future version.\n",
      "  energy.Country = energy.Country.str.replace(r\"[0-9]\",\"\")\n"
     ]
    },
    {
     "data": {
      "text/html": [
       "<div>\n",
       "<style scoped>\n",
       "    .dataframe tbody tr th:only-of-type {\n",
       "        vertical-align: middle;\n",
       "    }\n",
       "\n",
       "    .dataframe tbody tr th {\n",
       "        vertical-align: top;\n",
       "    }\n",
       "\n",
       "    .dataframe thead th {\n",
       "        text-align: right;\n",
       "    }\n",
       "</style>\n",
       "<table border=\"1\" class=\"dataframe\">\n",
       "  <thead>\n",
       "    <tr style=\"text-align: right;\">\n",
       "      <th></th>\n",
       "      <th>size</th>\n",
       "      <th>sum</th>\n",
       "      <th>mean</th>\n",
       "      <th>std</th>\n",
       "    </tr>\n",
       "    <tr>\n",
       "      <th>Continent</th>\n",
       "      <th></th>\n",
       "      <th></th>\n",
       "      <th></th>\n",
       "      <th></th>\n",
       "    </tr>\n",
       "  </thead>\n",
       "  <tbody>\n",
       "    <tr>\n",
       "      <th>Asia</th>\n",
       "      <td>5.0</td>\n",
       "      <td>2.898666e+09</td>\n",
       "      <td>5.797333e+08</td>\n",
       "      <td>6.790979e+08</td>\n",
       "    </tr>\n",
       "    <tr>\n",
       "      <th>Australia</th>\n",
       "      <td>1.0</td>\n",
       "      <td>2.331602e+07</td>\n",
       "      <td>2.331602e+07</td>\n",
       "      <td>NaN</td>\n",
       "    </tr>\n",
       "    <tr>\n",
       "      <th>Europe</th>\n",
       "      <td>6.0</td>\n",
       "      <td>4.579297e+08</td>\n",
       "      <td>7.632161e+07</td>\n",
       "      <td>3.464767e+07</td>\n",
       "    </tr>\n",
       "    <tr>\n",
       "      <th>North America</th>\n",
       "      <td>2.0</td>\n",
       "      <td>3.528552e+08</td>\n",
       "      <td>1.764276e+08</td>\n",
       "      <td>1.996696e+08</td>\n",
       "    </tr>\n",
       "    <tr>\n",
       "      <th>South America</th>\n",
       "      <td>1.0</td>\n",
       "      <td>2.059153e+08</td>\n",
       "      <td>2.059153e+08</td>\n",
       "      <td>NaN</td>\n",
       "    </tr>\n",
       "  </tbody>\n",
       "</table>\n",
       "</div>"
      ],
      "text/plain": [
       "               size           sum          mean           std\n",
       "Continent                                                    \n",
       "Asia            5.0  2.898666e+09  5.797333e+08  6.790979e+08\n",
       "Australia       1.0  2.331602e+07  2.331602e+07           NaN\n",
       "Europe          6.0  4.579297e+08  7.632161e+07  3.464767e+07\n",
       "North America   2.0  3.528552e+08  1.764276e+08  1.996696e+08\n",
       "South America   1.0  2.059153e+08  2.059153e+08           NaN"
      ]
     },
     "execution_count": 16,
     "metadata": {},
     "output_type": "execute_result"
    }
   ],
   "source": [
    "def answer_eleven():\n",
    "    ContinentDict  = {'China':'Asia', \n",
    "                  'United States':'North America', \n",
    "                  'Japan':'Asia', \n",
    "                  'United Kingdom':'Europe', \n",
    "                  'Russian Federation':'Europe', \n",
    "                  'Canada':'North America', \n",
    "                  'Germany':'Europe', \n",
    "                  'India':'Asia',\n",
    "                  'France':'Europe', \n",
    "                  'South Korea':'Asia', \n",
    "                  'Italy':'Europe', \n",
    "                  'Spain':'Europe', \n",
    "                  'Iran':'Asia',\n",
    "                  'Australia':'Australia', \n",
    "                  'Brazil':'South America'}\n",
    "    Top15 = answer_one()\n",
    "    Top15['PopEst'] = Top15['Energy Supply'] / Top15['Energy Supply per Capita']\n",
    "    Top15['Continent'] = pd.Series(ContinentDict)\n",
    "    grpby_continent = Top15.groupby('Continent')\n",
    "    df = pd.DataFrame([grpby_continent['Rank'].count(), grpby_continent['PopEst'].sum(),\n",
    "                       grpby_continent['PopEst'].mean(), grpby_continent['PopEst'].std()]).T\n",
    "    df.columns = ['size', 'sum', 'mean', 'std']\n",
    "    return df\n",
    "\n",
    "answer_eleven()"
   ]
  },
  {
   "cell_type": "markdown",
   "metadata": {
    "colab_type": "text",
    "id": "sxhBzQlp4kY3"
   },
   "source": [
    "### Question 12\n",
    "Cut % Renewable into 5 bins. Group Top15 by the Continent, as well as these new % Renewable bins. How many countries are in each of these groups?\n",
    "\n",
    "*This function should return a __Series__ with a MultiIndex of `Continent`, then the bins for `% Renewable`. Do not include groups with no countries.*"
   ]
  },
  {
   "cell_type": "code",
   "execution_count": 17,
   "metadata": {
    "colab": {},
    "colab_type": "code",
    "id": "tyrwSabv4kY5",
    "outputId": "3ca4222c-f5e8-41d7-88d7-f1480f03b559",
    "scrolled": true
   },
   "outputs": [
    {
     "name": "stderr",
     "output_type": "stream",
     "text": [
      "<ipython-input-3-619b5428be1d>:8: FutureWarning: The default value of regex will change from True to False in a future version.\n",
      "  energy.Country = energy.Country.str.replace(r\" \\(.*\\)\",\"\")\n",
      "<ipython-input-3-619b5428be1d>:9: FutureWarning: The default value of regex will change from True to False in a future version.\n",
      "  energy.Country = energy.Country.str.replace(r\"[0-9]\",\"\")\n"
     ]
    },
    {
     "data": {
      "text/plain": [
       "Continent      Renew_bins      \n",
       "Asia           (2.212, 15.753]     4\n",
       "               (15.753, 29.227]    1\n",
       "               (29.227, 42.701]    0\n",
       "               (42.701, 56.174]    0\n",
       "               (56.174, 69.648]    0\n",
       "Australia      (2.212, 15.753]     1\n",
       "               (15.753, 29.227]    0\n",
       "               (29.227, 42.701]    0\n",
       "               (42.701, 56.174]    0\n",
       "               (56.174, 69.648]    0\n",
       "Europe         (2.212, 15.753]     1\n",
       "               (15.753, 29.227]    3\n",
       "               (29.227, 42.701]    2\n",
       "               (42.701, 56.174]    0\n",
       "               (56.174, 69.648]    0\n",
       "North America  (2.212, 15.753]     1\n",
       "               (15.753, 29.227]    0\n",
       "               (29.227, 42.701]    0\n",
       "               (42.701, 56.174]    0\n",
       "               (56.174, 69.648]    1\n",
       "South America  (2.212, 15.753]     0\n",
       "               (15.753, 29.227]    0\n",
       "               (29.227, 42.701]    0\n",
       "               (42.701, 56.174]    0\n",
       "               (56.174, 69.648]    1\n",
       "Name: Rank, dtype: int64"
      ]
     },
     "execution_count": 17,
     "metadata": {},
     "output_type": "execute_result"
    }
   ],
   "source": [
    "def answer_twelve():\n",
    "    ContinentDict  = {'China':'Asia', \n",
    "                  'United States':'North America', \n",
    "                  'Japan':'Asia', \n",
    "                  'United Kingdom':'Europe', \n",
    "                  'Russian Federation':'Europe', \n",
    "                  'Canada':'North America', \n",
    "                  'Germany':'Europe', \n",
    "                  'India':'Asia',\n",
    "                  'France':'Europe', \n",
    "                  'South Korea':'Asia', \n",
    "                  'Italy':'Europe', \n",
    "                  'Spain':'Europe', \n",
    "                  'Iran':'Asia',\n",
    "                  'Australia':'Australia', \n",
    "                  'Brazil':'South America'}\n",
    "    Top15 = answer_one()\n",
    "    Top15['Continent'] = pd.Series(ContinentDict)\n",
    "    Top15['Renew_bins'] = pd.cut(Top15['% Renewable'],5)\n",
    "    return Top15.groupby(['Continent', 'Renew_bins'])['Rank'].count()\n",
    "#     return \"ANSWER\"\n",
    "\n",
    "answer_twelve()"
   ]
  },
  {
   "cell_type": "markdown",
   "metadata": {
    "colab_type": "text",
    "id": "Dhz82JnQ4kZE"
   },
   "source": [
    "### Question 13\n",
    "Convert the Population Estimate series to a string with thousands separator (using commas). Do not round the results.\n",
    "\n",
    "e.g. 317615384.61538464 -> 317,615,384.61538464\n",
    "\n",
    "*This function should return a Series `PopEst` whose index is the country name and whose values are the population estimate string.*"
   ]
  },
  {
   "cell_type": "code",
   "execution_count": 18,
   "metadata": {
    "colab": {},
    "colab_type": "code",
    "id": "CsrxwNj24kZH",
    "outputId": "541fd140-e369-4dd7-b35b-eaf656b8670d",
    "scrolled": true,
    "umich_part_id": "020",
    "umich_partlist_id": "003"
   },
   "outputs": [
    {
     "name": "stderr",
     "output_type": "stream",
     "text": [
      "<ipython-input-3-619b5428be1d>:8: FutureWarning: The default value of regex will change from True to False in a future version.\n",
      "  energy.Country = energy.Country.str.replace(r\" \\(.*\\)\",\"\")\n",
      "<ipython-input-3-619b5428be1d>:9: FutureWarning: The default value of regex will change from True to False in a future version.\n",
      "  energy.Country = energy.Country.str.replace(r\"[0-9]\",\"\")\n"
     ]
    },
    {
     "data": {
      "text/plain": [
       "Country\n",
       "China                 1,367,645,161.2903225\n",
       "United States          317,615,384.61538464\n",
       "Japan                  127,409,395.97315437\n",
       "United Kingdom         63,870,967.741935484\n",
       "Russian Federation            143,500,000.0\n",
       "Canada                  35,239,864.86486486\n",
       "Germany                 80,369,696.96969697\n",
       "India                 1,276,730,769.2307692\n",
       "France                  63,837,349.39759036\n",
       "South Korea            49,805,429.864253394\n",
       "Italy                  59,908,256.880733944\n",
       "Spain                    46,443,396.2264151\n",
       "Iran                    77,075,630.25210084\n",
       "Australia              23,316,017.316017315\n",
       "Brazil                 205,915,254.23728815\n",
       "Name: PopEst, dtype: object"
      ]
     },
     "execution_count": 18,
     "metadata": {},
     "output_type": "execute_result"
    }
   ],
   "source": [
    "def commas_sep(pop):\n",
    "    pop = str(pop)\n",
    "    pop_new = pop\n",
    "    d_index = pop.find('.')\n",
    "    for i in range(d_index-3,0,-3):\n",
    "        pop_new = pop_new[:i]+','+pop_new[i:] \n",
    "    return pop_new\n",
    "\n",
    "def answer_thirteen():\n",
    "    Top15 = answer_one()\n",
    "    Top15['PopEst'] = Top15['Energy Supply'] / Top15['Energy Supply per Capita']\n",
    "    return Top15['PopEst'].apply(commas_sep)\n",
    "#     return \"ANSWER\"\n",
    "\n",
    "answer_thirteen()"
   ]
  },
  {
   "cell_type": "markdown",
   "metadata": {
    "colab_type": "text",
    "id": "VV6svFCT4kZT"
   },
   "source": [
    "### Optional\n",
    "\n",
    "Use the built in function `plot_optional()` to see an example visualization."
   ]
  },
  {
   "cell_type": "code",
   "execution_count": 19,
   "metadata": {
    "colab": {},
    "colab_type": "code",
    "id": "22Tl1eHv4kZX",
    "scrolled": true
   },
   "outputs": [],
   "source": [
    "def plot_optional():\n",
    "    import matplotlib as plt\n",
    "    %matplotlib inline\n",
    "    Top15 = answer_one()\n",
    "    ax = Top15.plot(x='Rank', y='% Renewable', kind='scatter', \n",
    "                    c=['#e41a1c','#377eb8','#e41a1c','#4daf4a','#4daf4a','#377eb8','#4daf4a','#e41a1c',\n",
    "                       '#4daf4a','#e41a1c','#4daf4a','#4daf4a','#e41a1c','#dede00','#ff7f00'], \n",
    "                    xticks=range(1,16), s=6*Top15[2014]/10**10, alpha=.75, figsize=[16,6]);\n",
    "\n",
    "    for i, txt in enumerate(Top15.index):\n",
    "        ax.annotate(txt, [Top15['Rank'][i], Top15['% Renewable'][i]], ha='center')\n",
    "\n",
    "    print(\"This is an example of a visualization that can be created to help understand the data. \\\n",
    "This is a bubble chart showing % Renewable vs. Rank. The size of the bubble corresponds to the countries' \\\n",
    "2014 GDP, and the color corresponds to the continent.\")"
   ]
  },
  {
   "cell_type": "code",
   "execution_count": 20,
   "metadata": {
    "colab": {},
    "colab_type": "code",
    "id": "swrk0-3V4kZe",
    "outputId": "f4636e15-c51c-4727-f5f1-7c66367c91f0"
   },
   "outputs": [],
   "source": [
    "# plot_optional() "
   ]
  }
 ],
 "metadata": {
  "anaconda-cloud": {},
  "colab": {
   "name": "Assignment_2_solution.ipynb",
   "provenance": [],
   "version": "0.3.2"
  },
  "coursera": {
   "course_slug": "python-data-analysis",
   "graded_item_id": "zAr06",
   "launcher_item_id": "KSSjT",
   "part_id": "SL3fU"
  },
  "kernelspec": {
   "display_name": "Python 3",
   "language": "python",
   "name": "python3"
  },
  "language_info": {
   "codemirror_mode": {
    "name": "ipython",
    "version": 3
   },
   "file_extension": ".py",
   "mimetype": "text/x-python",
   "name": "python",
   "nbconvert_exporter": "python",
   "pygments_lexer": "ipython3",
   "version": "3.9.1"
  },
  "umich": {
   "id": "Assignment 3",
   "version": "1.5"
  }
 },
 "nbformat": 4,
 "nbformat_minor": 1
}
